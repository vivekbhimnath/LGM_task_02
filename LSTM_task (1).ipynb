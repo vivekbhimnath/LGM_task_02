{
  "nbformat": 4,
  "nbformat_minor": 0,
  "metadata": {
    "colab": {
      "name": "LSTM_task.ipynb",
      "provenance": [],
      "collapsed_sections": []
    },
    "kernelspec": {
      "name": "python3",
      "display_name": "Python 3"
    },
    "language_info": {
      "name": "python"
    }
  },
  "cells": [
    {
      "cell_type": "markdown",
      "metadata": {
        "id": "UOaMMLMHwhLF"
      },
      "source": [
        "## **Name: Vivek Bhimnath**"
      ]
    },
    {
      "cell_type": "markdown",
      "metadata": {
        "id": "yz2FcQscvqWb"
      },
      "source": [
        "## **LGM TASK: Stock Market Prediction And Forecasting Using Stacked LSTM** "
      ]
    },
    {
      "cell_type": "markdown",
      "metadata": {
        "id": "Mha1bBiiqOIb"
      },
      "source": [
        "### Importing important Libraries"
      ]
    },
    {
      "cell_type": "code",
      "metadata": {
        "id": "PeacC5Ag6npr"
      },
      "source": [
        "import pandas as pd\n",
        "import numpy as np\n",
        "import matplotlib.pyplot as plt\n",
        "import seaborn as sns"
      ],
      "execution_count": null,
      "outputs": []
    },
    {
      "cell_type": "code",
      "metadata": {
        "colab": {
          "base_uri": "https://localhost:8080/",
          "height": 234
        },
        "id": "dRKuKjyg6v_K",
        "outputId": "5dd23459-8527-4b82-d2e1-b029389959f8"
      },
      "source": [
        "df=pd.read_csv(\"https://raw.githubusercontent.com/mwitiderrick/stockprice/master/NSE-TATAGLOBAL.csv\",parse_dates=[\"Date\"],index_col=\"Date\")\n",
        "df.head()"
      ],
      "execution_count": null,
      "outputs": [
        {
          "output_type": "execute_result",
          "data": {
            "text/html": [
              "<div>\n",
              "<style scoped>\n",
              "    .dataframe tbody tr th:only-of-type {\n",
              "        vertical-align: middle;\n",
              "    }\n",
              "\n",
              "    .dataframe tbody tr th {\n",
              "        vertical-align: top;\n",
              "    }\n",
              "\n",
              "    .dataframe thead th {\n",
              "        text-align: right;\n",
              "    }\n",
              "</style>\n",
              "<table border=\"1\" class=\"dataframe\">\n",
              "  <thead>\n",
              "    <tr style=\"text-align: right;\">\n",
              "      <th></th>\n",
              "      <th>Open</th>\n",
              "      <th>High</th>\n",
              "      <th>Low</th>\n",
              "      <th>Last</th>\n",
              "      <th>Close</th>\n",
              "      <th>Total Trade Quantity</th>\n",
              "      <th>Turnover (Lacs)</th>\n",
              "    </tr>\n",
              "    <tr>\n",
              "      <th>Date</th>\n",
              "      <th></th>\n",
              "      <th></th>\n",
              "      <th></th>\n",
              "      <th></th>\n",
              "      <th></th>\n",
              "      <th></th>\n",
              "      <th></th>\n",
              "    </tr>\n",
              "  </thead>\n",
              "  <tbody>\n",
              "    <tr>\n",
              "      <th>2018-09-28</th>\n",
              "      <td>234.05</td>\n",
              "      <td>235.95</td>\n",
              "      <td>230.20</td>\n",
              "      <td>233.50</td>\n",
              "      <td>233.75</td>\n",
              "      <td>3069914</td>\n",
              "      <td>7162.35</td>\n",
              "    </tr>\n",
              "    <tr>\n",
              "      <th>2018-09-27</th>\n",
              "      <td>234.55</td>\n",
              "      <td>236.80</td>\n",
              "      <td>231.10</td>\n",
              "      <td>233.80</td>\n",
              "      <td>233.25</td>\n",
              "      <td>5082859</td>\n",
              "      <td>11859.95</td>\n",
              "    </tr>\n",
              "    <tr>\n",
              "      <th>2018-09-26</th>\n",
              "      <td>240.00</td>\n",
              "      <td>240.00</td>\n",
              "      <td>232.50</td>\n",
              "      <td>235.00</td>\n",
              "      <td>234.25</td>\n",
              "      <td>2240909</td>\n",
              "      <td>5248.60</td>\n",
              "    </tr>\n",
              "    <tr>\n",
              "      <th>2018-09-25</th>\n",
              "      <td>233.30</td>\n",
              "      <td>236.75</td>\n",
              "      <td>232.00</td>\n",
              "      <td>236.25</td>\n",
              "      <td>236.10</td>\n",
              "      <td>2349368</td>\n",
              "      <td>5503.90</td>\n",
              "    </tr>\n",
              "    <tr>\n",
              "      <th>2018-09-24</th>\n",
              "      <td>233.55</td>\n",
              "      <td>239.20</td>\n",
              "      <td>230.75</td>\n",
              "      <td>234.00</td>\n",
              "      <td>233.30</td>\n",
              "      <td>3423509</td>\n",
              "      <td>7999.55</td>\n",
              "    </tr>\n",
              "  </tbody>\n",
              "</table>\n",
              "</div>"
            ],
            "text/plain": [
              "              Open    High  ...  Total Trade Quantity  Turnover (Lacs)\n",
              "Date                        ...                                       \n",
              "2018-09-28  234.05  235.95  ...               3069914          7162.35\n",
              "2018-09-27  234.55  236.80  ...               5082859         11859.95\n",
              "2018-09-26  240.00  240.00  ...               2240909          5248.60\n",
              "2018-09-25  233.30  236.75  ...               2349368          5503.90\n",
              "2018-09-24  233.55  239.20  ...               3423509          7999.55\n",
              "\n",
              "[5 rows x 7 columns]"
            ]
          },
          "metadata": {},
          "execution_count": 163
        }
      ]
    },
    {
      "cell_type": "code",
      "metadata": {
        "colab": {
          "base_uri": "https://localhost:8080/"
        },
        "id": "dSqVfN2T6zRU",
        "outputId": "3d5b6061-520c-49cc-cafe-7c1846e1ca97"
      },
      "source": [
        "df.dtypes"
      ],
      "execution_count": null,
      "outputs": [
        {
          "output_type": "execute_result",
          "data": {
            "text/plain": [
              "Open                    float64\n",
              "High                    float64\n",
              "Low                     float64\n",
              "Last                    float64\n",
              "Close                   float64\n",
              "Total Trade Quantity      int64\n",
              "Turnover (Lacs)         float64\n",
              "dtype: object"
            ]
          },
          "metadata": {},
          "execution_count": 164
        }
      ]
    },
    {
      "cell_type": "code",
      "metadata": {
        "colab": {
          "base_uri": "https://localhost:8080/"
        },
        "id": "MtWecSMz62CQ",
        "outputId": "a11f3974-a2f1-4f03-8fa7-626606fc9d94"
      },
      "source": [
        "df.shape"
      ],
      "execution_count": null,
      "outputs": [
        {
          "output_type": "execute_result",
          "data": {
            "text/plain": [
              "(2035, 7)"
            ]
          },
          "metadata": {},
          "execution_count": 165
        }
      ]
    },
    {
      "cell_type": "markdown",
      "metadata": {
        "id": "v5ebh3OakN8R"
      },
      "source": [
        "### Dataset contains 2035 rows and 7 columns"
      ]
    },
    {
      "cell_type": "code",
      "metadata": {
        "id": "EwiJqE4b65fT",
        "colab": {
          "base_uri": "https://localhost:8080/"
        },
        "outputId": "142f28f5-6094-4451-b6fa-dbc4b92aeb6b"
      },
      "source": [
        "df.isna().sum()"
      ],
      "execution_count": null,
      "outputs": [
        {
          "output_type": "execute_result",
          "data": {
            "text/plain": [
              "Open                    0\n",
              "High                    0\n",
              "Low                     0\n",
              "Last                    0\n",
              "Close                   0\n",
              "Total Trade Quantity    0\n",
              "Turnover (Lacs)         0\n",
              "dtype: int64"
            ]
          },
          "metadata": {},
          "execution_count": 166
        }
      ]
    },
    {
      "cell_type": "markdown",
      "metadata": {
        "id": "yUSq240skYHM"
      },
      "source": [
        "### No null values are present"
      ]
    },
    {
      "cell_type": "code",
      "metadata": {
        "id": "cfMo6hCbmTf4"
      },
      "source": [
        "X=df[[\"Close\"]]"
      ],
      "execution_count": null,
      "outputs": []
    },
    {
      "cell_type": "code",
      "metadata": {
        "colab": {
          "base_uri": "https://localhost:8080/",
          "height": 388
        },
        "id": "KdNiGmk36YHP",
        "outputId": "195a39bc-cde1-4cdd-fa98-5f7df01d3853"
      },
      "source": [
        "X.head(10)"
      ],
      "execution_count": null,
      "outputs": [
        {
          "output_type": "execute_result",
          "data": {
            "text/html": [
              "<div>\n",
              "<style scoped>\n",
              "    .dataframe tbody tr th:only-of-type {\n",
              "        vertical-align: middle;\n",
              "    }\n",
              "\n",
              "    .dataframe tbody tr th {\n",
              "        vertical-align: top;\n",
              "    }\n",
              "\n",
              "    .dataframe thead th {\n",
              "        text-align: right;\n",
              "    }\n",
              "</style>\n",
              "<table border=\"1\" class=\"dataframe\">\n",
              "  <thead>\n",
              "    <tr style=\"text-align: right;\">\n",
              "      <th></th>\n",
              "      <th>Close</th>\n",
              "    </tr>\n",
              "    <tr>\n",
              "      <th>Date</th>\n",
              "      <th></th>\n",
              "    </tr>\n",
              "  </thead>\n",
              "  <tbody>\n",
              "    <tr>\n",
              "      <th>2018-09-28</th>\n",
              "      <td>233.75</td>\n",
              "    </tr>\n",
              "    <tr>\n",
              "      <th>2018-09-27</th>\n",
              "      <td>233.25</td>\n",
              "    </tr>\n",
              "    <tr>\n",
              "      <th>2018-09-26</th>\n",
              "      <td>234.25</td>\n",
              "    </tr>\n",
              "    <tr>\n",
              "      <th>2018-09-25</th>\n",
              "      <td>236.10</td>\n",
              "    </tr>\n",
              "    <tr>\n",
              "      <th>2018-09-24</th>\n",
              "      <td>233.30</td>\n",
              "    </tr>\n",
              "    <tr>\n",
              "      <th>2018-09-21</th>\n",
              "      <td>234.60</td>\n",
              "    </tr>\n",
              "    <tr>\n",
              "      <th>2018-09-19</th>\n",
              "      <td>234.90</td>\n",
              "    </tr>\n",
              "    <tr>\n",
              "      <th>2018-09-18</th>\n",
              "      <td>235.05</td>\n",
              "    </tr>\n",
              "    <tr>\n",
              "      <th>2018-09-17</th>\n",
              "      <td>236.60</td>\n",
              "    </tr>\n",
              "    <tr>\n",
              "      <th>2018-09-14</th>\n",
              "      <td>233.95</td>\n",
              "    </tr>\n",
              "  </tbody>\n",
              "</table>\n",
              "</div>"
            ],
            "text/plain": [
              "             Close\n",
              "Date              \n",
              "2018-09-28  233.75\n",
              "2018-09-27  233.25\n",
              "2018-09-26  234.25\n",
              "2018-09-25  236.10\n",
              "2018-09-24  233.30\n",
              "2018-09-21  234.60\n",
              "2018-09-19  234.90\n",
              "2018-09-18  235.05\n",
              "2018-09-17  236.60\n",
              "2018-09-14  233.95"
            ]
          },
          "metadata": {},
          "execution_count": 168
        }
      ]
    },
    {
      "cell_type": "markdown",
      "metadata": {
        "id": "EdayLJAErpPi"
      },
      "source": [
        "### Time Series Decomposition"
      ]
    },
    {
      "cell_type": "code",
      "metadata": {
        "id": "KI4qjnJy67_s",
        "colab": {
          "base_uri": "https://localhost:8080/",
          "height": 297
        },
        "outputId": "972bfe3e-f5b6-4a89-df7d-621c86ce4113"
      },
      "source": [
        "from statsmodels.api import tsa\n",
        "decomp=tsa.seasonal_decompose(X,freq=52)\n",
        "fig=decomp.plot()"
      ],
      "execution_count": null,
      "outputs": [
        {
          "output_type": "display_data",
          "data": {
            "image/png": "[encoded data removed]",
            "text/plain": [
              "<Figure size 432x288 with 4 Axes>"
            ]
          },
          "metadata": {
            "needs_background": "light"
          }
        }
      ]
    },
    {
      "cell_type": "code",
      "metadata": {
        "colab": {
          "base_uri": "https://localhost:8080/",
          "height": 282
        },
        "id": "jfBjn1TKhhDm",
        "outputId": "0fb73fae-9c02-4148-aa38-d391642019b1"
      },
      "source": [
        "plt.plot(X)"
      ],
      "execution_count": null,
      "outputs": [
        {
          "output_type": "execute_result",
          "data": {
            "text/plain": [
              "[<matplotlib.lines.Line2D at 0x7fa3757939d0>]"
            ]
          },
          "metadata": {},
          "execution_count": 170
        },
        {
          "output_type": "display_data",
          "data": {
            "image/png": "[encoded data removed]",
            "text/plain": [
              "<Figure size 432x288 with 1 Axes>"
            ]
          },
          "metadata": {
            "needs_background": "light"
          }
        }
      ]
    },
    {
      "cell_type": "code",
      "metadata": {
        "id": "lCRMwGXoh_q5"
      },
      "source": [
        "#Converting data to array\n",
        "Y=df[\"Close\"].values"
      ],
      "execution_count": null,
      "outputs": []
    },
    {
      "cell_type": "markdown",
      "metadata": {
        "id": "xASjVbIppnG9"
      },
      "source": [
        "### Checking whether data is Stationary or not using Augmented Dickey Fuller Test"
      ]
    },
    {
      "cell_type": "code",
      "metadata": {
        "colab": {
          "base_uri": "https://localhost:8080/"
        },
        "id": "gyrKZqp2l7QT",
        "outputId": "5dac502d-eeed-4bda-d37a-ad4654c73759"
      },
      "source": [
        "from statsmodels.tsa.stattools import adfuller\n",
        "res=adfuller(Y)\n",
        "p_val=res[1]\n",
        "if p_val>0.05:\n",
        "  print(\"Not Stationary\")\n",
        "else:\n",
        "  print(\"Stationary\")  "
      ],
      "execution_count": null,
      "outputs": [
        {
          "output_type": "stream",
          "text": [
            "Not Stationary\n"
          ],
          "name": "stdout"
        }
      ]
    },
    {
      "cell_type": "code",
      "metadata": {
        "id": "d2crk6cIrrwg",
        "colab": {
          "base_uri": "https://localhost:8080/"
        },
        "outputId": "e0d419e1-9b04-44e1-c132-fbe8555e52a3"
      },
      "source": [
        "X.shape[0]"
      ],
      "execution_count": null,
      "outputs": [
        {
          "output_type": "execute_result",
          "data": {
            "text/plain": [
              "2035"
            ]
          },
          "metadata": {},
          "execution_count": 173
        }
      ]
    },
    {
      "cell_type": "code",
      "metadata": {
        "colab": {
          "base_uri": "https://localhost:8080/"
        },
        "id": "KoOduQ7LsBBt",
        "outputId": "a61aeeb5-2368-468e-df66-fe0964c58d61"
      },
      "source": [
        "size=int(X.shape[0]*0.7)\n",
        "size"
      ],
      "execution_count": null,
      "outputs": [
        {
          "output_type": "execute_result",
          "data": {
            "text/plain": [
              "1424"
            ]
          },
          "metadata": {},
          "execution_count": 174
        }
      ]
    },
    {
      "cell_type": "code",
      "metadata": {
        "id": "uZNQ6gRRsJWo"
      },
      "source": [
        "train=X.iloc[:size]\n",
        "test=X.iloc[size:]"
      ],
      "execution_count": null,
      "outputs": []
    },
    {
      "cell_type": "code",
      "metadata": {
        "colab": {
          "base_uri": "https://localhost:8080/"
        },
        "id": "W9i1kdsGsWzS",
        "outputId": "ab539fc2-ff00-41ef-9376-2e5da6a6bb9e"
      },
      "source": [
        "print(train.shape)\n",
        "print(test.shape)\n"
      ],
      "execution_count": null,
      "outputs": [
        {
          "output_type": "stream",
          "text": [
            "(1424, 1)\n",
            "(611, 1)\n"
          ],
          "name": "stdout"
        }
      ]
    },
    {
      "cell_type": "code",
      "metadata": {
        "colab": {
          "base_uri": "https://localhost:8080/",
          "height": 282
        },
        "id": "uDERPUu9sVnk",
        "outputId": "ca751b1e-6327-43d4-e1e5-09fa764a97d5"
      },
      "source": [
        "plt.plot(test,label=\"Testing_data\")\n",
        "plt.plot(train,label=\"Training_data\")\n",
        "plt.legend()"
      ],
      "execution_count": null,
      "outputs": [
        {
          "output_type": "execute_result",
          "data": {
            "text/plain": [
              "<matplotlib.legend.Legend at 0x7fa3756a8a50>"
            ]
          },
          "metadata": {},
          "execution_count": 177
        },
        {
          "output_type": "display_data",
          "data": {
            "image/png": "[encoded data removed]",
            "text/plain": [
              "<Figure size 432x288 with 1 Axes>"
            ]
          },
          "metadata": {
            "needs_background": "light"
          }
        }
      ]
    },
    {
      "cell_type": "code",
      "metadata": {
        "id": "EbbI70hcsskU"
      },
      "source": [
        "from sklearn.preprocessing import MinMaxScaler\n",
        "ms=MinMaxScaler()\n",
        "ms.fit(train)\n",
        "sc_train=ms.transform(train)\n",
        "sc_test=ms.transform(test)"
      ],
      "execution_count": null,
      "outputs": []
    },
    {
      "cell_type": "markdown",
      "metadata": {
        "id": "x28ciy-glMxo"
      },
      "source": [
        "### Implementing stacked LSTM"
      ]
    },
    {
      "cell_type": "code",
      "metadata": {
        "id": "knZI7ueXuSVp"
      },
      "source": [
        "from keras.models import Sequential\n",
        "from keras.layers import Dense\n",
        "from keras.layers import LSTM\n",
        "model=Sequential()\n",
        "model.add(LSTM(100,return_sequences=True,activation=\"relu\",input_shape=(10,1)))\n",
        "model.add(LSTM(100,activation=\"relu\"))\n",
        "model.add(Dense(1))\n",
        "model.compile(loss=\"mse\",optimizer=\"adam\")"
      ],
      "execution_count": null,
      "outputs": []
    },
    {
      "cell_type": "code",
      "metadata": {
        "colab": {
          "base_uri": "https://localhost:8080/"
        },
        "id": "PWG3vzQZvY5Z",
        "outputId": "52fdbe3e-ca73-414c-957b-94bf4e3ea3f1"
      },
      "source": [
        "model.summary()"
      ],
      "execution_count": null,
      "outputs": [
        {
          "output_type": "stream",
          "text": [
            "Model: \"sequential_6\"\n",
            "_________________________________________________________________\n",
            "Layer (type)                 Output Shape              Param #   \n",
            "=================================================================\n",
            "lstm_12 (LSTM)               (None, 10, 100)           40800     \n",
            "_________________________________________________________________\n",
            "lstm_13 (LSTM)               (None, 100)               80400     \n",
            "_________________________________________________________________\n",
            "dense_6 (Dense)              (None, 1)                 101       \n",
            "=================================================================\n",
            "Total params: 121,301\n",
            "Trainable params: 121,301\n",
            "Non-trainable params: 0\n",
            "_________________________________________________________________\n"
          ],
          "name": "stdout"
        }
      ]
    },
    {
      "cell_type": "code",
      "metadata": {
        "id": "W3xhkQQLvgLL"
      },
      "source": [
        "from keras.preprocessing.sequence import TimeseriesGenerator\n",
        "gen=TimeseriesGenerator(sc_train,sc_train,length=10,batch_size=10)"
      ],
      "execution_count": null,
      "outputs": []
    },
    {
      "cell_type": "code",
      "metadata": {
        "colab": {
          "base_uri": "https://localhost:8080/"
        },
        "id": "KXosmjKGvsvO",
        "outputId": "622ecec4-73a6-495b-b004-d236253491dd"
      },
      "source": [
        "model.fit_generator(gen,epochs=55,steps_per_epoch=15)"
      ],
      "execution_count": null,
      "outputs": [
        {
          "output_type": "stream",
          "text": [
            "Epoch 1/55\n",
            " 8/15 [===============>..............] - ETA: 0s - loss: 0.0016"
          ],
          "name": "stdout"
        },
        {
          "output_type": "stream",
          "text": [
            "/usr/local/lib/python3.7/dist-packages/keras/engine/training.py:1972: UserWarning: `Model.fit_generator` is deprecated and will be removed in a future version. Please use `Model.fit`, which supports generators.\n",
            "  warnings.warn('`Model.fit_generator` is deprecated and '\n"
          ],
          "name": "stderr"
        },
        {
          "output_type": "stream",
          "text": [
            "15/15 [==============================] - 0s 15ms/step - loss: 0.0014\n",
            "Epoch 2/55\n",
            "15/15 [==============================] - 0s 15ms/step - loss: 5.7426e-04\n",
            "Epoch 3/55\n",
            "15/15 [==============================] - 0s 14ms/step - loss: 0.0013\n",
            "Epoch 4/55\n",
            "15/15 [==============================] - 0s 14ms/step - loss: 6.8674e-04\n",
            "Epoch 5/55\n",
            "15/15 [==============================] - 0s 14ms/step - loss: 0.0016\n",
            "Epoch 6/55\n",
            "15/15 [==============================] - 0s 14ms/step - loss: 0.0016\n",
            "Epoch 7/55\n",
            "15/15 [==============================] - 0s 15ms/step - loss: 5.1720e-04\n",
            "Epoch 8/55\n",
            "15/15 [==============================] - 0s 14ms/step - loss: 4.7500e-04\n",
            "Epoch 9/55\n",
            "15/15 [==============================] - 0s 15ms/step - loss: 0.0011\n",
            "Epoch 10/55\n",
            "15/15 [==============================] - 0s 17ms/step - loss: 8.3854e-04\n",
            "Epoch 11/55\n",
            "15/15 [==============================] - 0s 16ms/step - loss: 0.0011\n",
            "Epoch 12/55\n",
            "15/15 [==============================] - 0s 15ms/step - loss: 0.0024\n",
            "Epoch 13/55\n",
            "15/15 [==============================] - 0s 14ms/step - loss: 0.0011\n",
            "Epoch 14/55\n",
            "15/15 [==============================] - 0s 14ms/step - loss: 9.9442e-04\n",
            "Epoch 15/55\n",
            "15/15 [==============================] - 0s 15ms/step - loss: 0.0017\n",
            "Epoch 16/55\n",
            "15/15 [==============================] - 0s 15ms/step - loss: 0.0021\n",
            "Epoch 17/55\n",
            "15/15 [==============================] - 0s 14ms/step - loss: 0.0019\n",
            "Epoch 18/55\n",
            "15/15 [==============================] - 0s 14ms/step - loss: 0.0018\n",
            "Epoch 19/55\n",
            "15/15 [==============================] - 0s 14ms/step - loss: 0.0014\n",
            "Epoch 20/55\n",
            "15/15 [==============================] - 0s 14ms/step - loss: 0.0025\n",
            "Epoch 21/55\n",
            "15/15 [==============================] - 0s 14ms/step - loss: 8.1371e-04\n",
            "Epoch 22/55\n",
            "15/15 [==============================] - 0s 14ms/step - loss: 5.0760e-04\n",
            "Epoch 23/55\n",
            "15/15 [==============================] - 0s 15ms/step - loss: 0.0010\n",
            "Epoch 24/55\n",
            "15/15 [==============================] - 0s 14ms/step - loss: 7.5482e-04\n",
            "Epoch 25/55\n",
            "15/15 [==============================] - 0s 15ms/step - loss: 0.0013\n",
            "Epoch 26/55\n",
            "15/15 [==============================] - 0s 15ms/step - loss: 9.8911e-04\n",
            "Epoch 27/55\n",
            "15/15 [==============================] - 0s 15ms/step - loss: 0.0010\n",
            "Epoch 28/55\n",
            "15/15 [==============================] - 0s 14ms/step - loss: 0.0011\n",
            "Epoch 29/55\n",
            "15/15 [==============================] - 0s 15ms/step - loss: 0.0015\n",
            "Epoch 30/55\n",
            "15/15 [==============================] - 0s 14ms/step - loss: 8.6529e-04\n",
            "Epoch 31/55\n",
            "15/15 [==============================] - 0s 14ms/step - loss: 8.7585e-04\n",
            "Epoch 32/55\n",
            "15/15 [==============================] - 0s 15ms/step - loss: 0.0013\n",
            "Epoch 33/55\n",
            "15/15 [==============================] - 0s 14ms/step - loss: 0.0016\n",
            "Epoch 34/55\n",
            "15/15 [==============================] - 0s 15ms/step - loss: 0.0015\n",
            "Epoch 35/55\n",
            "15/15 [==============================] - 0s 15ms/step - loss: 0.0016\n",
            "Epoch 36/55\n",
            "15/15 [==============================] - 0s 15ms/step - loss: 8.2324e-04\n",
            "Epoch 37/55\n",
            "15/15 [==============================] - 0s 15ms/step - loss: 0.0014\n",
            "Epoch 38/55\n",
            "15/15 [==============================] - 0s 15ms/step - loss: 0.0011\n",
            "Epoch 39/55\n",
            "15/15 [==============================] - 0s 15ms/step - loss: 9.1825e-04\n",
            "Epoch 40/55\n",
            "15/15 [==============================] - 0s 15ms/step - loss: 5.3320e-04\n",
            "Epoch 41/55\n",
            "15/15 [==============================] - 0s 15ms/step - loss: 0.0011\n",
            "Epoch 42/55\n",
            "15/15 [==============================] - 0s 15ms/step - loss: 0.0011\n",
            "Epoch 43/55\n",
            "15/15 [==============================] - 0s 14ms/step - loss: 0.0028\n",
            "Epoch 44/55\n",
            "15/15 [==============================] - 0s 14ms/step - loss: 0.0018\n",
            "Epoch 45/55\n",
            "15/15 [==============================] - 0s 15ms/step - loss: 0.0010\n",
            "Epoch 46/55\n",
            "15/15 [==============================] - 0s 14ms/step - loss: 0.0016\n",
            "Epoch 47/55\n",
            "15/15 [==============================] - 0s 15ms/step - loss: 0.0018\n",
            "Epoch 48/55\n",
            "15/15 [==============================] - 0s 15ms/step - loss: 7.6149e-04\n",
            "Epoch 49/55\n",
            "15/15 [==============================] - 0s 14ms/step - loss: 4.9449e-04\n",
            "Epoch 50/55\n",
            "15/15 [==============================] - 0s 16ms/step - loss: 3.9547e-04\n",
            "Epoch 51/55\n",
            "15/15 [==============================] - 0s 14ms/step - loss: 5.0143e-04\n",
            "Epoch 52/55\n",
            "15/15 [==============================] - 0s 14ms/step - loss: 6.7602e-04\n",
            "Epoch 53/55\n",
            "15/15 [==============================] - 0s 15ms/step - loss: 7.1683e-04\n",
            "Epoch 54/55\n",
            "15/15 [==============================] - 0s 15ms/step - loss: 5.8222e-04\n",
            "Epoch 55/55\n",
            "15/15 [==============================] - 0s 14ms/step - loss: 8.5415e-04\n"
          ],
          "name": "stdout"
        },
        {
          "output_type": "execute_result",
          "data": {
            "text/plain": [
              "<keras.callbacks.History at 0x7fa3704b7250>"
            ]
          },
          "metadata": {},
          "execution_count": 228
        }
      ]
    },
    {
      "cell_type": "code",
      "metadata": {
        "id": "OK_XsdXkvwGS",
        "colab": {
          "base_uri": "https://localhost:8080/",
          "height": 265
        },
        "outputId": "47f863c3-1365-4cd0-fc4c-2873d9ad3af5"
      },
      "source": [
        "loss=model.history.history['loss']\n",
        "plt.plot(range(1,len(loss)+1),loss)\n",
        "a=plt.xticks(range(1,len(loss)+1))"
      ],
      "execution_count": null,
      "outputs": [
        {
          "output_type": "display_data",
          "data": {
            "image/png": "[encoded data removed]",
            "text/plain": [
              "<Figure size 432x288 with 1 Axes>"
            ]
          },
          "metadata": {
            "needs_background": "light"
          }
        }
      ]
    },
    {
      "cell_type": "markdown",
      "metadata": {
        "id": "RCGqq3gYIMrt"
      },
      "source": [
        "### Testing generating Time Series Data"
      ]
    },
    {
      "cell_type": "code",
      "metadata": {
        "id": "Y_EiQzqzIUI1"
      },
      "source": [
        "gen_test=TimeseriesGenerator(sc_test,sc_test,length=10,batch_size=1)"
      ],
      "execution_count": null,
      "outputs": []
    },
    {
      "cell_type": "code",
      "metadata": {
        "id": "kjUjdNjTJCtU"
      },
      "source": [
        "xtest=[]\n",
        "ytest=[]\n",
        "for i in range(len(gen_test)):\n",
        "  x,y=gen_test[i]\n",
        "  xtest.append(x[0])\n",
        "  ytest.append(y[0][0])"
      ],
      "execution_count": null,
      "outputs": []
    },
    {
      "cell_type": "code",
      "metadata": {
        "colab": {
          "base_uri": "https://localhost:8080/"
        },
        "id": "25rX87XlhUjg",
        "outputId": "036ef74e-924b-4919-fc8d-29624b9d247e"
      },
      "source": [
        "xtest[0]"
      ],
      "execution_count": null,
      "outputs": [
        {
          "output_type": "execute_result",
          "data": {
            "text/plain": [
              "array([[0.25549081],\n",
              "       [0.25773196],\n",
              "       [0.25997311],\n",
              "       [0.26086957],\n",
              "       [0.27028238],\n",
              "       [0.28014343],\n",
              "       [0.28036755],\n",
              "       [0.28238458],\n",
              "       [0.2962797 ],\n",
              "       [0.29314209]])"
            ]
          },
          "metadata": {},
          "execution_count": 232
        }
      ]
    },
    {
      "cell_type": "code",
      "metadata": {
        "id": "f24Z12giJcKc"
      },
      "source": [
        "pred=model.predict(gen_test)"
      ],
      "execution_count": null,
      "outputs": []
    },
    {
      "cell_type": "code",
      "metadata": {
        "id": "8e_UTJSEK_lB"
      },
      "source": [
        "actual=ms.inverse_transform(np.array(ytest).reshape(-1, 1))\n",
        "pred=ms.inverse_transform(pred)"
      ],
      "execution_count": null,
      "outputs": []
    },
    {
      "cell_type": "code",
      "metadata": {
        "colab": {
          "base_uri": "https://localhost:8080/"
        },
        "id": "6nmPLswcg3Pn",
        "outputId": "c125edef-fdac-48bc-af75-ab5b606a5027"
      },
      "source": [
        "actual.shape"
      ],
      "execution_count": null,
      "outputs": [
        {
          "output_type": "execute_result",
          "data": {
            "text/plain": [
              "(601, 1)"
            ]
          },
          "metadata": {},
          "execution_count": 235
        }
      ]
    },
    {
      "cell_type": "code",
      "metadata": {
        "colab": {
          "base_uri": "https://localhost:8080/",
          "height": 282
        },
        "id": "4nTBGuvIMu9s",
        "outputId": "5e68600a-d361-4e18-87c2-2b527a108c20"
      },
      "source": [
        "plt.plot(actual,label=\"Original\")\n",
        "plt.plot(pred,label=\"Predicted\")\n",
        "plt.legend()"
      ],
      "execution_count": null,
      "outputs": [
        {
          "output_type": "execute_result",
          "data": {
            "text/plain": [
              "<matplotlib.legend.Legend at 0x7fa370408150>"
            ]
          },
          "metadata": {},
          "execution_count": 236
        },
        {
          "output_type": "display_data",
          "data": {
            "image/png": "[encoded data removed]",
            "text/plain": [
              "<Figure size 432x288 with 1 Axes>"
            ]
          },
          "metadata": {
            "needs_background": "light"
          }
        }
      ]
    },
    {
      "cell_type": "code",
      "metadata": {
        "colab": {
          "base_uri": "https://localhost:8080/"
        },
        "id": "LkUdJua-g6H1",
        "outputId": "4caace52-d42e-4df2-e03e-10bf693ed3ec"
      },
      "source": [
        "pred.shape"
      ],
      "execution_count": null,
      "outputs": [
        {
          "output_type": "execute_result",
          "data": {
            "text/plain": [
              "(601, 1)"
            ]
          },
          "metadata": {},
          "execution_count": 237
        }
      ]
    },
    {
      "cell_type": "code",
      "metadata": {
        "colab": {
          "base_uri": "https://localhost:8080/"
        },
        "id": "Y_cE1cg9M8ac",
        "outputId": "296bc9b7-17af-4514-975a-f4be4e5a8a92"
      },
      "source": [
        "from sklearn.metrics import mean_squared_error\n",
        "mse=mean_squared_error(actual,pred)\n",
        "print(\"MSE is \",mse)\n",
        "rmse=np.sqrt(mse)\n",
        "print(\"RMSE is \",rmse)"
      ],
      "execution_count": null,
      "outputs": [
        {
          "output_type": "stream",
          "text": [
            "MSE is  112.98537885480329\n",
            "RMSE is  10.629458069666736\n"
          ],
          "name": "stdout"
        }
      ]
    },
    {
      "cell_type": "markdown",
      "metadata": {
        "id": "xbfGAtbUlgSS"
      },
      "source": [
        "## **Conclusion:**"
      ]
    },
    {
      "cell_type": "markdown",
      "metadata": {
        "id": "FCH-YIdDlqXu"
      },
      "source": [
        "### The dataset containing Time Series Data has various attributes Open,High,Low,Last,Close,Volume and so on. Here I have implemented Stacked LSTM on Close column and I have achieved root mean squared error of 10.62\n",
        "### We can say that model is predicting good with Stacked LSTM   "
      ]
    },
    {
      "cell_type": "code",
      "metadata": {
        "id": "b9BG0NAqm_Ny"
      },
      "source": [
        ""
      ],
      "execution_count": null,
      "outputs": []
    }
  ]
}